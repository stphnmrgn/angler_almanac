{
 "cells": [
  {
   "cell_type": "markdown",
   "metadata": {},
   "source": [
    "# GEOG6308 Programming for Geospatial Applications\n",
    "### Final Project by Stephen Morgan"
   ]
  },
  {
   "cell_type": "markdown",
   "metadata": {},
   "source": [
    "\n",
    "\n",
    "\n",
    "## Fishing, Weather, & Superstition\n",
    "\n",
    "\n",
    "#### Do certain weather conditions influence the success of recreational anglers?\n",
    "\n",
    "That's the question this project is trying to answer. It is common for anglers to mention certain weather events as influencing fish behavior. In most cases, the angler is concerned how this change in behavior affects their success in catching fish.\n",
    "\n",
    "#### In order to test this hypothosis we need three things:\n",
    "\n",
    "1. Harvest Records (when and where people caught n fish)\n",
    "        Modules: pandas\n",
    "2. Weather Conditions (weather variables X, Y, Z for when and where people caught n fish)\n",
    "        Modules: urllib3, json, csv, datetime, time, pandas\n",
    "3. Predictive Estimation (weather variable X predicts n fish better than weather variables Y,Z)\n",
    "        Modules: numpy, pandas, matplotlib, sklearn -RandomForestRegressor"
   ]
  },
  {
   "cell_type": "code",
   "execution_count": null,
   "metadata": {},
   "outputs": [],
   "source": []
  }
 ],
 "metadata": {
  "kernelspec": {
   "display_name": "Python 3",
   "language": "python",
   "name": "python3"
  },
  "language_info": {
   "codemirror_mode": {
    "name": "ipython",
    "version": 3
   },
   "file_extension": ".py",
   "mimetype": "text/x-python",
   "name": "python",
   "nbconvert_exporter": "python",
   "pygments_lexer": "ipython3",
   "version": "3.6.4"
  }
 },
 "nbformat": 4,
 "nbformat_minor": 2
}
