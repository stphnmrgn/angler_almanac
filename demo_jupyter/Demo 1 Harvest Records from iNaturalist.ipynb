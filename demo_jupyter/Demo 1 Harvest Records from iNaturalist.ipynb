{
 "cells": [
  {
   "cell_type": "markdown",
   "metadata": {},
   "source": [
    "# Observation data from iNaturalist"
   ]
  },
  {
   "cell_type": "markdown",
   "metadata": {},
   "source": [
    "The original \"harvest\" data was obtained from iNaturalist, which hosts a community for adding observations of species. Observations are grouped into various levels (or grades) depending on various information and elements. The data used for this exercise is \"Research Grade\". For more information on the observation grades, please visit https://www.inaturalist.org/pages/help#general1. The data used in this exercise includes species in the Salmonidae and Centrarchidae families (salmon and sunfish, if you prefer)."
   ]
  },
  {
   "cell_type": "markdown",
   "metadata": {},
   "source": [
    "## Viewing the original Salmon and Sunfish data"
   ]
  },
  {
   "cell_type": "markdown",
   "metadata": {},
   "source": [
    "Import modules"
   ]
  },
  {
   "cell_type": "code",
   "execution_count": null,
   "metadata": {},
   "outputs": [],
   "source": [
    "import pandas as pd"
   ]
  },
  {
   "cell_type": "code",
   "execution_count": null,
   "metadata": {},
   "outputs": [],
   "source": [
    "# input csv file, iNaturalist salmon observation data\n",
    "salmon = r\"C:\\Users\\steph\\Documents\\Python\\Projects\\Silas\\Data\\Source\\observations-26921\\observations-26921.csv\""
   ]
  },
  {
   "cell_type": "code",
   "execution_count": null,
   "metadata": {},
   "outputs": [],
   "source": [
    "# set the harvest data to the object fish\n",
    "trout = pd.read_csv(salmon)\n",
    "\n",
    "# create dataframe with weather variables\n",
    "df1 = pd.DataFrame(trout)\n",
    "\n",
    "# view first 5 rows\n",
    "df1.head()"
   ]
  },
  {
   "cell_type": "code",
   "execution_count": null,
   "metadata": {},
   "outputs": [],
   "source": [
    "# see how many observations for dataframe\n",
    "print \"\\nNumber of oberservations in salmon observation data: \", len(df1)"
   ]
  },
  {
   "cell_type": "code",
   "execution_count": null,
   "metadata": {},
   "outputs": [],
   "source": [
    "# input csv file, iNaturalist sunfish observation data\n",
    "sunfish = r\"C:\\Users\\steph\\Documents\\Python\\Projects\\Silas\\Data\\Source\\observations-26918\\observations-26918.csv\""
   ]
  },
  {
   "cell_type": "code",
   "execution_count": null,
   "metadata": {},
   "outputs": [],
   "source": [
    "# set the harvest data to the object fish\n",
    "bass = pd.read_csv(sunfish)\n",
    "\n",
    "# create dataframe with weather variables\n",
    "df2 = pd.DataFrame(bass)\n",
    "\n",
    "df2.head()"
   ]
  },
  {
   "cell_type": "code",
   "execution_count": null,
   "metadata": {},
   "outputs": [],
   "source": [
    "# see how many observations for dataframe\n",
    "print \"\\nNumber of oberservations in sunfish observation data: \", len(df2)"
   ]
  },
  {
   "cell_type": "markdown",
   "metadata": {},
   "source": [
    "## Scrubbing the data"
   ]
  },
  {
   "cell_type": "markdown",
   "metadata": {},
   "source": [
    "I combined the Salmonidae and Centrarchidae datasets and I filtered out observations that were out of range (out_of_range = False or NaN. Other fields that were not required for this exercise (observed_on_string, created_at, etc) were also dropped. After combining and scrubbing the data, there were 4336 observations left for our analysis. "
   ]
  },
  {
   "cell_type": "code",
   "execution_count": null,
   "metadata": {},
   "outputs": [],
   "source": [
    "harvest = \"C:\\Users\\steph\\Documents\\Python\\Projects\\Silas\\Data\\Created\\Harvest\\Harvests_scrubbed.csv\""
   ]
  },
  {
   "cell_type": "code",
   "execution_count": null,
   "metadata": {},
   "outputs": [],
   "source": [
    "# set the harvest data to the object fish\n",
    "fish = pd.read_csv(harvest)\n",
    "# create dataframe with weather variables\n",
    "df3 = pd.DataFrame(fish)\n",
    "\n",
    "df3.head()"
   ]
  },
  {
   "cell_type": "code",
   "execution_count": null,
   "metadata": {},
   "outputs": [],
   "source": [
    "# see how many observations for dataframe\n",
    "print \"\\nNumber of oberservations in scrubbed observation data: \", len(df3)"
   ]
  },
  {
   "cell_type": "code",
   "execution_count": null,
   "metadata": {},
   "outputs": [],
   "source": []
  }
 ],
 "metadata": {
  "kernelspec": {
   "display_name": "Python 3",
   "language": "python",
   "name": "python3"
  },
  "language_info": {
   "codemirror_mode": {
    "name": "ipython",
    "version": 3
   },
   "file_extension": ".py",
   "mimetype": "text/x-python",
   "name": "python",
   "nbconvert_exporter": "python",
   "pygments_lexer": "ipython3",
   "version": "3.6.4"
  }
 },
 "nbformat": 4,
 "nbformat_minor": 2
}
