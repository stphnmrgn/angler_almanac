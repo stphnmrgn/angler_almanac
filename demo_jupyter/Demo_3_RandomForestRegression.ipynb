{
 "cells": [
  {
   "cell_type": "markdown",
   "metadata": {},
   "source": [
    "# Random Forest Regression"
   ]
  },
  {
   "cell_type": "markdown",
   "metadata": {},
   "source": [
    "Import modules"
   ]
  },
  {
   "cell_type": "code",
   "execution_count": 1,
   "metadata": {},
   "outputs": [],
   "source": [
    "import numpy as np\n",
    "import pandas as pd\n",
    "import matplotlib.pyplot as plt\n",
    "from sklearn.model_selection import train_test_split\n",
    "from sklearn.ensemble import RandomForestRegressor\n",
    "from sklearn.metrics import mean_absolute_error, r2_score"
   ]
  },
  {
   "cell_type": "markdown",
   "metadata": {},
   "source": [
    "## Aggregated Data\n",
    "The aggregated data from the previous step is stored here as `harvest`. The harvest data is stored in a csv file. \n",
    "\n",
    "I have reorganized (grouped) the aggregated data by the \"day of year\" and \"angler\", giving us the havest size per trip (day) for each angler. By grouping the data by day (or fishing \"trip\"), we reduced the number of records from 4336 to 2381.\n",
    "\n",
    "Our weather data are recorded by 24 hour averages, so this regrouping of our data into days works well."
   ]
  },
  {
   "cell_type": "code",
   "execution_count": 2,
   "metadata": {},
   "outputs": [],
   "source": [
    "# input aggregated harvest, from iNatrualist and World Weather Online\n",
    "harvest = \"C:\\Users\\steph\\Documents\\Python\\Projects\\Silas\\Demo\\RandomForest_HarvestTrip_Demo.csv\""
   ]
  },
  {
   "cell_type": "markdown",
   "metadata": {},
   "source": [
    "## Data cleanup\n",
    "The harvest data needs more cleaned up. Instead of manipulating the data with excel, I'm going to test my hand at dataframes using Pandas. Apparently it's all the rage these days. "
   ]
  },
  {
   "cell_type": "code",
   "execution_count": 3,
   "metadata": {},
   "outputs": [
    {
     "name": "stdout",
     "output_type": "stream",
     "text": [
      "   dayofyear        angler  harvest_size  month  cloud_cover  temp_f  \\\n",
      "0          1   cuihenggang             1      1         53.0    36.0   \n",
      "1          1  evanator4000             1      1         69.0    73.0   \n",
      "2          1    teeland007             1      1         24.0    31.0   \n",
      "3          2    bigcattrek             1      1         87.0    49.0   \n",
      "4          2       carrion             1      1         58.0    58.0   \n",
      "\n",
      "   humidity  wind_direction_degrees  wind_speed_kmph  pressure_mb  dewpoint_f  \\\n",
      "0      56.0                   154.0              7.0       1026.0        14.0   \n",
      "1      85.0                   219.0              6.0       1010.0        58.0   \n",
      "2      91.0                   196.0             10.0       1021.0        26.0   \n",
      "3      82.0                   230.0             11.0       1017.0        40.0   \n",
      "4      75.0                    70.0              6.0       1021.0        43.0   \n",
      "\n",
      "   head_index_f  percipitation_mm  visualbility_km  moon_phase  angler_id  \\\n",
      "0          28.0               0.0             10.0    0.002590     474164   \n",
      "1          63.0               0.2              7.0    0.125419     269451   \n",
      "2          27.0               0.0              7.0    0.116140     393615   \n",
      "3          46.0               3.0             10.0    0.202140     449458   \n",
      "4          51.0               0.0             10.0    0.991827      40229   \n",
      "\n",
      "   harvest_id  \n",
      "0   6102005.0  \n",
      "1   5163729.0  \n",
      "2   4984995.0  \n",
      "3   5843675.0  \n",
      "4   9356537.0  \n"
     ]
    }
   ],
   "source": [
    "# set the harvest data to the object fish\n",
    "fish = pd.read_csv(harvest)\n",
    "# create a dataframe using the harvest records and weather variables\n",
    "df = pd.DataFrame(fish)\n",
    "\n",
    "# view top 5 rows\n",
    "print(df.head())"
   ]
  },
  {
   "cell_type": "markdown",
   "metadata": {},
   "source": [
    "Drop fields (labels) that are not needed for the regression analysis."
   ]
  },
  {
   "cell_type": "code",
   "execution_count": 4,
   "metadata": {},
   "outputs": [
    {
     "name": "stdout",
     "output_type": "stream",
     "text": [
      "   harvest_size  month  cloud_cover  temp_f  humidity  wind_direction_degrees  \\\n",
      "0             1      1         53.0    36.0      56.0                   154.0   \n",
      "1             1      1         69.0    73.0      85.0                   219.0   \n",
      "2             1      1         24.0    31.0      91.0                   196.0   \n",
      "3             1      1         87.0    49.0      82.0                   230.0   \n",
      "4             1      1         58.0    58.0      75.0                    70.0   \n",
      "\n",
      "   wind_speed_kmph  pressure_mb  dewpoint_f  head_index_f  percipitation_mm  \\\n",
      "0              7.0       1026.0        14.0          28.0               0.0   \n",
      "1              6.0       1010.0        58.0          63.0               0.2   \n",
      "2             10.0       1021.0        26.0          27.0               0.0   \n",
      "3             11.0       1017.0        40.0          46.0               3.0   \n",
      "4              6.0       1021.0        43.0          51.0               0.0   \n",
      "\n",
      "   visualbility_km  \n",
      "0             10.0  \n",
      "1              7.0  \n",
      "2              7.0  \n",
      "3             10.0  \n",
      "4             10.0  \n"
     ]
    }
   ],
   "source": [
    "# drop fields from dataframe that we do not need\n",
    "df = df.drop(['dayofyear', 'angler', 'angler_id', 'harvest_id', 'moon_phase'], axis=1)\n",
    "\n",
    "# view top 5 rows\n",
    "print(df.head())"
   ]
  },
  {
   "cell_type": "code",
   "execution_count": null,
   "metadata": {},
   "outputs": [],
   "source": [
    "print(type(df))"
   ]
  },
  {
   "cell_type": "markdown",
   "metadata": {},
   "source": [
    "## Prepare Test and Trainig Datasets \n",
    "This is where we create some test and training datasets for the \n",
    "random forest regression model. This allows us to test the model that we \n",
    "create on a subset of the data. This process helps to avoid overfitting the model on the training dataset.\n",
    "\n",
    "Before we create the train and test data, We only want to include the attributes (columns, labels, whatever) that are used in predicting harvest size, which is why we use `iloc`\n",
    "\n",
    "Then, using `train_test_split` we randomly assign a portion of our data as training data."
   ]
  },
  {
   "cell_type": "code",
   "execution_count": 5,
   "metadata": {},
   "outputs": [],
   "source": [
    "# quick and dirty assinging some rows to test data\n",
    "Xfish = df.iloc[:, 1:12]\n",
    "yfish = df.iloc[:, 0:1]\n",
    "X_train, X_test, y_train, y_test = train_test_split(Xfish, yfish, random_state=13)"
   ]
  },
  {
   "cell_type": "code",
   "execution_count": null,
   "metadata": {
    "scrolled": true
   },
   "outputs": [],
   "source": [
    "# see how many observations for each dataframe\n",
    "print \"Number of oberservations in training data: \", len(X_train)\n",
    "print \"Number of oberservations in test data: \", len(X_test)\n",
    "print \"Total number of observations in model: \", len(X_train) + len(X_test)"
   ]
  },
  {
   "cell_type": "code",
   "execution_count": null,
   "metadata": {},
   "outputs": [],
   "source": [
    "# view X training data\n",
    "print(X_train)\n",
    "print \"Number of oberservations in training data: \", len(X_train)"
   ]
  },
  {
   "cell_type": "code",
   "execution_count": null,
   "metadata": {},
   "outputs": [],
   "source": [
    "# view X training data\n",
    "print(X_test)\n",
    "print \"Number of oberservations in training data: \", len(X_test)"
   ]
  },
  {
   "cell_type": "code",
   "execution_count": null,
   "metadata": {},
   "outputs": [],
   "source": [
    "# view y training data\n",
    "print(y_train)\n",
    "print \"Number of oberservations in y training data: \", len(y_train)"
   ]
  },
  {
   "cell_type": "code",
   "execution_count": null,
   "metadata": {},
   "outputs": [],
   "source": [
    "# view y test data\n",
    "print(y_test)\n",
    "print \"Number of oberservations in y test data: \", len(y_test)"
   ]
  },
  {
   "cell_type": "markdown",
   "metadata": {},
   "source": [
    "## Random Forest Regression"
   ]
  },
  {
   "cell_type": "code",
   "execution_count": 6,
   "metadata": {},
   "outputs": [
    {
     "name": "stderr",
     "output_type": "stream",
     "text": [
      "C:\\Users\\steph\\Documents\\Anaconda\\Anaconda2\\envs\\silas27\\lib\\site-packages\\ipykernel_launcher.py:2: DataConversionWarning: A column-vector y was passed when a 1d array was expected. Please change the shape of y to (n_samples,), for example using ravel().\n",
      "  \n"
     ]
    },
    {
     "name": "stdout",
     "output_type": "stream",
     "text": [
      "                        Importance\n",
      "month                     0.042214\n",
      "cloud_cover               0.094410\n",
      "temp_f                    0.138504\n",
      "humidity                  0.087394\n",
      "wind_direction_degrees    0.118770\n",
      "wind_speed_kmph           0.105472\n",
      "pressure_mb               0.079796\n",
      "dewpoint_f                0.129819\n",
      "head_index_f              0.088271\n",
      "percipitation_mm          0.053849\n",
      "visualbility_km           0.061502\n"
     ]
    }
   ],
   "source": [
    "# create random forest regressor object\n",
    "regressor = RandomForestRegressor(n_estimators=300, criterion='mse', random_state=13, n_jobs=-1).fit(X_train, y_train)\n",
    "regimport = regressor.feature_importances_\n",
    "Importance = pd.DataFrame(data=regimport, index=X_train.columns,  columns=['Importance'])\n",
    "print Importance"
   ]
  },
  {
   "cell_type": "code",
   "execution_count": 7,
   "metadata": {},
   "outputs": [
    {
     "name": "stdout",
     "output_type": "stream",
     "text": [
      "                        Importance\n",
      "temp_f                    0.138504\n",
      "dewpoint_f                0.129819\n",
      "wind_direction_degrees    0.118770\n",
      "wind_speed_kmph           0.105472\n",
      "cloud_cover               0.094410\n",
      "head_index_f              0.088271\n",
      "humidity                  0.087394\n",
      "pressure_mb               0.079796\n",
      "visualbility_km           0.061502\n",
      "percipitation_mm          0.053849\n",
      "month                     0.042214\n"
     ]
    }
   ],
   "source": [
    "Importance2 = Importance.sort_values(by=['Importance'],ascending=False)[:]\n",
    "#view feature importance dataframe\n",
    "print Importance2"
   ]
  },
  {
   "cell_type": "code",
   "execution_count": 8,
   "metadata": {},
   "outputs": [
    {
     "data": {
      "image/png": "[encoded data removed]",
      "text/plain": [
       "<matplotlib.figure.Figure at 0xb5020d0>"
      ]
     },
     "metadata": {},
     "output_type": "display_data"
    }
   ],
   "source": [
    "#calculate standard deviation\n",
    "std = np.std([tree.feature_importances_ for tree in regressor.estimators_],\n",
    "             axis=0)\n",
    "indices = np.argsort(regimport)[::-1]\n",
    "\n",
    "# Print the feature ranking\n",
    "#print(\"Feature ranking:\")\n",
    "#for f in range(X_train.shape[1]):\n",
    "    #print(\"%d. feature %d (%f)\" % (f + 1, indices[f], regimport[indices[f]]))\n",
    "\n",
    "# Plot the feature importances of the forest\n",
    "plt.figure()\n",
    "plt.title(\"Feature importances\")\n",
    "plt.bar(range(X_train.shape[1]), regimport[indices],\n",
    "       color=\"r\", yerr=std[indices], align=\"center\")\n",
    "plt.xticks(range(X_train.shape[1]), indices)\n",
    "plt.xlim([-1, X_train.shape[1]])\n",
    "plt.show()"
   ]
  },
  {
   "cell_type": "markdown",
   "metadata": {},
   "source": [
    "We can then use the test set to see how good a fit the model is and also plot the predicted values against the actual values"
   ]
  },
  {
   "cell_type": "code",
   "execution_count": 1,
   "metadata": {
    "scrolled": true
   },
   "outputs": [
    {
     "ename": "SyntaxError",
     "evalue": "Missing parentheses in call to 'print'. Did you mean print(\"Harvest dataset\")? (<ipython-input-1-ec48ff55dbac>, line 4)",
     "output_type": "error",
     "traceback": [
      "\u001b[1;36m  File \u001b[1;32m\"<ipython-input-1-ec48ff55dbac>\"\u001b[1;36m, line \u001b[1;32m4\u001b[0m\n\u001b[1;33m    print \"Harvest dataset\"\u001b[0m\n\u001b[1;37m                          ^\u001b[0m\n\u001b[1;31mSyntaxError\u001b[0m\u001b[1;31m:\u001b[0m Missing parentheses in call to 'print'. Did you mean print(\"Harvest dataset\")?\n"
     ]
    }
   ],
   "source": [
    "# Returns score of test and training models at predicting y variable\n",
    "scoretrain = regressor.score(X_train, y_train)\n",
    "scoretest = regressor.score(X_test, y_test)\n",
    "print \"Harvest dataset\"\n",
    "print \"Accuracy of RF regressor on training set: {:.2f}\".format(scoretrain)\n",
    "print \"Accuracy of RF regressor on test set: {:.2f}\".format(scoretest)"
   ]
  },
  {
   "cell_type": "code",
   "execution_count": 2,
   "metadata": {},
   "outputs": [
    {
     "ename": "SyntaxError",
     "evalue": "invalid syntax (<ipython-input-2-4dc6ba83ba66>, line 3)",
     "output_type": "error",
     "traceback": [
      "\u001b[1;36m  File \u001b[1;32m\"<ipython-input-2-4dc6ba83ba66>\"\u001b[1;36m, line \u001b[1;32m3\u001b[0m\n\u001b[1;33m    print\"\\nRegression prediction of train data\\n\", y_train_pred, \"\\n\"\u001b[0m\n\u001b[1;37m                                                 ^\u001b[0m\n\u001b[1;31mSyntaxError\u001b[0m\u001b[1;31m:\u001b[0m invalid syntax\n"
     ]
    }
   ],
   "source": [
    "# Predict regression target for Xtrain\n",
    "y_train_pred = regressor.predict(X_train)\n",
    "print\"\\nRegression prediction of train data\\n\", y_train_pred, \"\\n\"\n",
    "\n",
    "# Predict regression target for Xtest\n",
    "y_test_pred = regressor.predict(X_test)\n",
    "print\"\\nRegression prediction of train data\\n\",y_test_pred, \"\\n\""
   ]
  },
  {
   "cell_type": "code",
   "execution_count": null,
   "metadata": {},
   "outputs": [],
   "source": [
    "print(\"MSE train: %.3f, test: %.3f\" % (mean_absolute_error(y_train, y_train_pred),\n",
    "    mean_absolute_error(y_test, y_test_pred),))\n",
    "print(\"R^2 train: %.3f, test: %.3f\" % (r2_score(y_train, y_train_pred),\n",
    "    r2_score(y_test, y_test_pred),))"
   ]
  },
  {
   "cell_type": "code",
   "execution_count": null,
   "metadata": {},
   "outputs": [],
   "source": [
    "plt.scatter(y_test, y_test_pred, c=\"red\")\n",
    "plt.xlim([0,15])\n",
    "plt.ylim([0,15])\n",
    "plt.plot([0,15], [0,15])\n",
    "plt.grid(True)"
   ]
  },
  {
   "cell_type": "code",
   "execution_count": null,
   "metadata": {},
   "outputs": [],
   "source": []
  }
 ],
 "metadata": {
  "kernelspec": {
   "display_name": "Python 3",
   "language": "python",
   "name": "python3"
  },
  "language_info": {
   "codemirror_mode": {
    "name": "ipython",
    "version": 3
   },
   "file_extension": ".py",
   "mimetype": "text/x-python",
   "name": "python",
   "nbconvert_exporter": "python",
   "pygments_lexer": "ipython3",
   "version": "3.6.4"
  }
 },
 "nbformat": 4,
 "nbformat_minor": 2
}
